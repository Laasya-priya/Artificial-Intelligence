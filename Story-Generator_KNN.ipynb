{
 "cells": [
  {
   "cell_type": "markdown",
   "metadata": {},
   "source": [
    "# Story Generator"
   ]
  },
  {
   "cell_type": "code",
   "execution_count": null,
   "metadata": {},
   "outputs": [],
   "source": [
    "import re                               #The re module offers a set of functions that allows us to search a string for a match\n",
    "dicti={}\n",
    "f1=open(\"speeches.txt\",'r')            #opening speeches.txt\n",
    "f2=f1.read()    \n",
    "f2.lower()                              #converting all the letters into lower cases\n",
    "match=re.findall(r'\\b[a-z]{4,15}\\b',f2)\n",
    "print(match)        #finding all the strings within the span 1 to 15\n",
    "for word in match:\n",
    "    count=dicti.get(word,0)                #initialising count to zero and searching for all the elements\n",
    "    dicti[word]=count+1                    #appending frequency to dictionary\n",
    "f1.close()\n",
    "print(dicti[\"eighty\"])\n",
    "len(dicti)"
   ]
  },
  {
   "cell_type": "code",
   "execution_count": null,
   "metadata": {},
   "outputs": [],
   "source": [
    "def solve (n, k, x, s):\n",
    "    # Write your code here\n",
    "    L=[]\n",
    "    d={}\n",
    "    output=\"\"\n",
    "    for i in s:\n",
    "        L.append(i)\n",
    "    for word in L:\n",
    "        count=d.get(word,0)\n",
    "        d[word]=count+1\n",
    "    if (d[\"b\"]>=x):\n",
    "        for w in range(k):\n",
    "            output=output+L[w]\n",
    "    return output\n",
    "    \n",
    "m=list(map(int,input().split()))\n",
    "n = m[0]\n",
    "k = m[1]\n",
    "x = m[2]\n",
    "s = input()\n",
    "\n",
    "out_ = solve(n, k, x, s)\n",
    "print (out_)"
   ]
  },
  {
   "cell_type": "markdown",
   "metadata": {},
   "source": [
    "Using a KNN Matrix we are making note of possible occurences after each word\n"
   ]
  },
  {
   "cell_type": "code",
   "execution_count": null,
   "metadata": {},
   "outputs": [],
   "source": [
    "n = 0\n",
    "dist_words = []    \n",
    "for i in dicti:\n",
    "    n += 1\n",
    "    dist_words.append(i)                     #creating a list\n",
    "print(n)\n",
    "ind_dict = dict.fromkeys(dist_words)          #forming a dictionary with keys as distinct words\n",
    "k = 0\n",
    "for key in ind_dict.keys():\n",
    "    ind_dict[key] = k\n",
    "    k += 1\n",
    "print(k)\n",
    "m = [[0 for j in range(n)] for i in range(n)]               #creating a matrix\n",
    "for i in range(len(match)-1):\n",
    "    i1 = ind_dict.get(match[i])                        \n",
    "    j1 = ind_dict.get(match[i+1])                 #finding immediate next and appending 1 to it\n",
    "    m[i1][j1] += 1\n",
    "def get_next_freq(word):\n",
    "    i = ind_dict[word]                       #to get the entire row of the given word\n",
    "    l = []\n",
    "    for j in range(n):\n",
    "        l.append(m[i][j])\n",
    "    return l\n",
    "m\n",
    "has=get_next_freq(\"and\")               #finding the row of \"and\"\n",
    "print(has)"
   ]
  },
  {
   "cell_type": "markdown",
   "metadata": {},
   "source": [
    "Generating a random story using 5000- words"
   ]
  },
  {
   "cell_type": "code",
   "execution_count": null,
   "metadata": {},
   "outputs": [],
   "source": [
    "import random\n",
    "def choose_next(word):\n",
    "    i = ind_dict.get(word)         #from the input word searching for the matrix from there\n",
    "    c = 0\n",
    "    for j in range(n): \n",
    "        c += m[i][j]\n",
    "    x = random.randint(0,c)       #randomly sellecting a number from the total count\n",
    "    t = 0\n",
    "    for j in range(n):\n",
    "        t += m[i][j]\n",
    "        if(t >= x):\n",
    "            return dist_words[j] #if the number is already available after the word then t will be greater than x .so returning dist_word[j]\n",
    "        \n",
    "phrase = random.choice(match)\n",
    "x = choose_next(phrase)            #choosing  random phrase\n",
    "for i in range(4999):\n",
    "    phrase += \" \" + x\n",
    "    x = choose_next(x)\n",
    "print(phrase)\n",
    "    "
   ]
  }
 ],
 "metadata": {
  "language_info": {
   "name": "python"
  },
  "orig_nbformat": 4
 },
 "nbformat": 4,
 "nbformat_minor": 2
}
