{
 "cells": [
  {
   "cell_type": "markdown",
   "metadata": {},
   "source": [
    "# Spam Filter using Naive Bayes Classifier"
   ]
  },
  {
   "cell_type": "code",
   "execution_count": null,
   "metadata": {},
   "outputs": [],
   "source": [
    "import re                               #The re module offers a set of functions that allows us to search a string for a match\n",
    "import numpy as np\n",
    "import csv\n",
    "from numpy.random import choice\n",
    "import matplotlib.pyplot as plt"
   ]
  },
  {
   "cell_type": "markdown",
   "metadata": {},
   "source": [
    "You are given a collection of SMS text messages in `sms.csv` as a tab separated CSV file. The first column of this file tells whether the message is a spam or not spam and the second column gives the message. Assume that this dataset is labelled correctly as spam or not spam. We  will use this dataset as the training data to build a spam filter. "
   ]
  },
  {
   "cell_type": "code",
   "execution_count": null,
   "metadata": {},
   "outputs": [],
   "source": [
    "with open('probsms.csv') as csvfile:\n",
    "    messages = csv.reader(csvfile)\n",
    "    spam=''\n",
    "    normal=''\n",
    "    for row in messages:\n",
    "        if (row[0][0:4]=='spam'):   #checking if spam\n",
    "            spam=spam+' '+row[0][4:]\n",
    "        else:\n",
    "            normal=normal+' '+row[0][8:]  #adding in not spam\n",
    "    spam_words={}\n",
    "    normal_words={}     #removing prepositions\n",
    "    unwanted=['a','an','and','the','for','off','is','from','as','at',\"but\",'by','not','from','in','on','onto','into','of','m','s','to','up','with']\n",
    "    spam=spam.lower()\n",
    "    normal=normal.lower()\n",
    "    match1=re.findall(r'\\b[a-z]{1,15}\\b',spam)        #finding all the strings within the span 1 to 15\n",
    "    for word in match1:\n",
    "        count=spam_words.get(word,0)                #initialising count to zero and searching for all the elements\n",
    "        spam_words[word]=count+1\n",
    "    match2=re.findall(r'\\b[a-z]{1,15}\\b',normal)        #finding all the strings within the span 1 to 15\n",
    "    for word in match2:\n",
    "        count1=normal_words.get(word,0)                #initialising count to zero and searching for all the elements\n",
    "        normal_words[word]=count1+1\n",
    "    for i in unwanted:\n",
    "        if (i in spam_words):\n",
    "            spam_words.pop(i)\n",
    "        if (i in normal_words):\n",
    "            normal_words.pop(i)\n",
    "    sort_spam=sorted(spam_words.items(),key=lambda x:x[1],reverse=True)   #sorting for top 10 elements\n",
    "    sort_spam=dict(sort_spam)\n",
    "    sort_normal=sorted(normal_words.items(),key=lambda x:x[1],reverse=True)\n",
    "    sort_normal=dict(sort_normal)\n",
    "    print(sort_spam)\n",
    "    print(sort_normal)\n",
    "    c2=0\n",
    "    c1=0\n",
    "    print(\"top 10 spam words are:\")\n",
    "    for key in sort_spam:\n",
    "        if c1<10:\n",
    "            print(key)\n",
    "            c1+=1\n",
    "    print(\"------------------\")\n",
    "    print(\"top 10 non spam words are:\")\n",
    "    for key in sort_normal:\n",
    "        if c2<10:\n",
    "            print(key)\n",
    "            c2+=1\n",
    "    "
   ]
  },
  {
   "cell_type": "code",
   "execution_count": null,
   "metadata": {},
   "outputs": [],
   "source": [
    "tots=0\n",
    "totns=0\n",
    "for i in spam_words.values(): #total spam\n",
    "    tots+=i\n",
    "for i in normal_words.values(): #total notspam \n",
    "    totns+=i \n",
    "total=tots+totns        #total elements\n",
    "word=input(\"enter the variable:\")\n",
    "def pr_w_spam(word):       #given spam prob of word\n",
    "    if (word in spam_words):\n",
    "        freq_spam=spam_words[word]+1\n",
    "    else:\n",
    "        return 0.000000000001\n",
    "    return (freq_spam*total)/tots**2\n",
    "def pr_w_nspam(word):        # given not spam prob of word\n",
    "    if (word in normal_words):\n",
    "        freq_nspam=normal_words[word]+1\n",
    "    else:\n",
    "        return 0.000000000001\n",
    "    return (freq_nspam*total)/totns**2\n",
    "print(pr_w_spam(word),pr_w_nspam(word))\n",
    "\n"
   ]
  },
  {
   "cell_type": "code",
   "execution_count": null,
   "metadata": {},
   "outputs": [],
   "source": [
    "M=input(\"Enter the message:\")\n",
    "def check_mess(M):\n",
    "    mess=re.findall(r'\\b[a-z]{5,15}\\b',M)\n",
    "    x=1\n",
    "    y=1\n",
    "    for m in mess:\n",
    "        x=x*pr_w_spam(m)  #checking for all messages\n",
    "        y=y*pr_w_nspam(m)\n",
    "    pr_spam=x*(tots/totns)\n",
    "    pr_nspam=y*(totns/total)\n",
    "    if( pr_spam > pr_nspam):\n",
    "        print(\"spam message\")\n",
    "    elif( pr_spam < pr_nspam):\n",
    "        print(\"not a spam\")\n",
    "    elif( pr_spam == pr_nspam)\n",
    "        print(\"cannot be decided...\")\n",
    "check_mess(M)\n"
   ]
  },
  {
   "cell_type": "markdown",
   "metadata": {},
   "source": [
    "Using the likelihood probabilities calculated in (b), implement a classifier that takes in a new SMS message `m=w1 w2 ... wi` and checks if it is spam or not using the naive Bayes' assumption. That is, compute `P(T=spam | M=m)` and `P(T=non-spam | M=m)` assuming that `P(m | spam) = P(w1 | spam) x P(w2 | spam) x ... x P(wi | spam)` and use this computation to decide if `m` is spam or not. \n"
   ]
  },
  {
   "cell_type": "code",
   "execution_count": null,
   "metadata": {},
   "outputs": [],
   "source": [
    "M1=\"Unlimited data, from 12AM-6AM everyday! Also carry UNUSED mobile Data from weekdays & enjoy on Sat&Sun! On Vi Rs299 & above recharges, bit.ly/ViNFR\"\n",
    "M2=\"Laasya, shop & double your happiness Buy 1, Get 2 Free & claim big on your fave styles Shop now on Myntra\"\n",
    "M3=\"Hey hi if you have some leisure time can you please check my codes\"\n",
    "M4=\"Dear customer,Fluctuating body temperature? Keep a track of it easily with Apollo digital thermometer. Tap for FREE delivery\"\n",
    "M=[M1,M2,M3,M4]\n",
    "for i in M:\n",
    "    check_mess(i)"
   ]
  }
 ],
 "metadata": {
  "language_info": {
   "name": "python"
  },
  "orig_nbformat": 4
 },
 "nbformat": 4,
 "nbformat_minor": 2
}
